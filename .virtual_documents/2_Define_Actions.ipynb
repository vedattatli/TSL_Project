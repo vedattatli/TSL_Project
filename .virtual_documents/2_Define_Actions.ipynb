


import numpy as np






# Tanıyacağımız işaretler (örnekle başlıyoruz)
actions = np.array([
    'A','B','C',  # Türkçe alfabedeki harfler (Ç,Ğ,İ,Ö,Ş,Ü dahil)
    'MERHABA','TESSEKKUR','NASIL_SIN','EVET','HAYIR'
])

print(f"Toplam hareket sayısı: {len(actions)}")
print(actions)






from tensorflow.keras import layers, models

# Daha önce tanımladığımız actions dizisi burada kullanılacak
# actions = np.array([...])

model = models.Sequential([
    layers.LSTM(64, return_sequences=True, input_shape=(30, 1662)),
    layers.LSTM(128, return_sequences=False),
    layers.Dense(64, activation='relu'),
    layers.Dense(len(actions), activation='softmax')  # çıktı katmanını actions sayısına göre ayarlıyoruz
])

model.summary()






#Kütüphaneler
import cv2
import numpy as np
import mediapipe as mp
import os






# ——— Ayarlar ———
label = 'MERHABA'           # Kaydedeceğiniz işaretin adı
num_sequences = 30          # Her işaret için video/sekan sayısı
sequence_length = 30        # Her sekanstaki kare (frame) sayısı

DATA_PATH = os.path.join('MP_Data', label)
#label’i her seferinde farklı işarette (örn. 'A', 'B', 'TESSEKKUR') çalıştırarak değiştirin.






# Her sequence için klasör
for seq in range(num_sequences):
    dir_path = os.path.join(DATA_PATH, str(seq))
    os.makedirs(dir_path, exist_ok=True)
    #Çalıştırınca MP_Data/MERHABA/0 … MP_Data/MERHABA/29 klasörleri oluşacak.





mp_holistic = mp.solutions.holistic.Holistic(
    static_image_mode=False,
    min_detection_confidence=0.5,
    min_tracking_confidence=0.5
)
mp_drawing = mp.solutions.drawing_utils






cap = cv2.VideoCapture(0)

for seq in range(num_sequences):
    for frame_num in range(sequence_length):
        ret, frame = cap.read()
        if not ret:
            break

        # RGB’ya çevir ve işle
        image = cv2.cvtColor(frame, cv2.COLOR_BGR2RGB)
        results = mp_holistic.process(image)

        # Landmark’ları tek bir vektöre dönüştür
        keypoints = []
        # Vücut
        if results.pose_landmarks:
            for lm in results.pose_landmarks.landmark:
                keypoints += [lm.x, lm.y, lm.z, lm.visibility]
        else:
            keypoints += [0]*132   # 33 landmark ×4

        # Sol el
        if results.left_hand_landmarks:
            for lm in results.left_hand_landmarks.landmark:
                keypoints += [lm.x, lm.y, lm.z]
        else:
            keypoints += [0]*63    # 21 landmark ×3

        # Sağ el
        if results.right_hand_landmarks:
            for lm in results.right_hand_landmarks.landmark:
                keypoints += [lm.x, lm.y, lm.z]
        else:
            keypoints += [0]*63

        # (İstersen yüz landmark’larını da ekleyebilirsin)

        # Kaydet
        npy_path = os.path.join(DATA_PATH, str(seq), f"{frame_num}.npy")
        np.save(npy_path, np.array(keypoints))

        # Görüntü ekranda
        cv2.putText(frame, f'{label} {seq}-{frame_num}', (10,30),
                    cv2.FONT_HERSHEY_SIMPLEX, 1, (255,255,255), 2)
        cv2.imshow('Recording', frame)
        if cv2.waitKey(10) & 0xFF == ord('q'):
            break

cap.release()
cv2.destroyAllWindows()

#Kod çalışırken ekranda “label sekan frame” bilgisi gözükecek.
#q ile erken çıkabilirsiniz; normalde tüm kareleri kaydedecektir.






# Örnek: 0. sekansın dosyalarını listele
print(os.listdir(os.path.join(DATA_PATH, '0')))
# İlk .npy dosyasını yükleyip boyutunu kontrol et
arr = np.load(os.path.join(DATA_PATH, '0', '0.npy'))
print(arr.shape)

#print 1662 (4×33 + 3×21 + 3×21) gibi sabit bir boyut göstermeli.




